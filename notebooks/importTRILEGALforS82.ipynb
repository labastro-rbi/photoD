{
 "cells": [
  {
   "cell_type": "markdown",
   "id": "54572498-0f9d-45f3-aca6-6ca89cd86835",
   "metadata": {},
   "source": [
    "# IMPORTANT\n",
    "\n",
    "Th ere was a typo in the part that reads the parquets, S82 parquets were read in instead of TRILEGAL pixels, so the priors can't be valid! Right? I've re-generated priors by loading the entire HiPSCat TRILEGAL, box-searched to S82. "
   ]
  },
  {
   "cell_type": "code",
   "execution_count": 1,
   "id": "2a8610e8-9222-4670-b916-c606e982fac3",
   "metadata": {},
   "outputs": [],
   "source": [
    "%matplotlib inline\n",
    "\n",
    "import hipscat\n",
    "import hipscat_import\n",
    "import pandas as pd\n",
    "import multiprocessing as mp\n",
    "import glob\n",
    "from tqdm import tqdm\n",
    "import os.path\n",
    "import numpy as np\n",
    "import healpy as hp\n",
    "import glob\n",
    "\n",
    "pd.set_option('display.max_columns', None)"
   ]
  },
  {
   "cell_type": "code",
   "execution_count": 8,
   "id": "16e97ef4-5329-4749-b6a9-2888c09e30af",
   "metadata": {
    "collapsed": true,
    "jupyter": {
     "outputs_hidden": true
    }
   },
   "outputs": [
    {
     "name": "stdout",
     "output_type": "stream",
     "text": [
      "Input files: 28\n"
     ]
    },
    {
     "name": "stderr",
     "output_type": "stream",
     "text": [
      "Planning  : 100%|█████████████████████████████████████████████████████████| 5/5 [01:03<00:00, 12.76s/it]\n",
      "/nvme/lovro/miniconda3/envs/photoD-dev/lib/python3.12/site-packages/distributed/node.py:182: UserWarning: Port 8787 is already in use.\n",
      "Perhaps you already have a cluster running?\n",
      "Hosting the HTTP server on port 43061 instead\n",
      "  warnings.warn(\n",
      "Mapping   : 100%|███████████████████████████████████████████████████████| 28/28 [00:04<00:00,  5.65it/s]\n",
      "Binning   : 100%|█████████████████████████████████████████████████████████| 2/2 [00:00<00:00, 27.30it/s]\n",
      "Splitting : 100%|███████████████████████████████████████████████████████| 28/28 [00:07<00:00,  3.96it/s]\n",
      "Reducing  : 100%|█████████████████████████████████████████████████████| 201/201 [00:06<00:00, 33.10it/s]\n",
      "Finishing : 100%|█████████████████████████████████████████████████████████| 5/5 [00:00<00:00,  8.39it/s]\n",
      "2024-10-10 17:10:49,160 - distributed.worker - ERROR - Failed to communicate with scheduler during heartbeat.\n",
      "Traceback (most recent call last):\n",
      "  File \"/nvme/lovro/miniconda3/envs/photoD-dev/lib/python3.12/site-packages/distributed/comm/tcp.py\", line 225, in read\n",
      "    frames_nosplit_nbytes_bin = await stream.read_bytes(fmt_size)\n",
      "                                ^^^^^^^^^^^^^^^^^^^^^^^^^^^^^^^^^\n",
      "tornado.iostream.StreamClosedError: Stream is closed\n",
      "\n",
      "The above exception was the direct cause of the following exception:\n",
      "\n",
      "Traceback (most recent call last):\n",
      "  File \"/nvme/lovro/miniconda3/envs/photoD-dev/lib/python3.12/site-packages/distributed/worker.py\", line 1252, in heartbeat\n",
      "    response = await retry_operation(\n",
      "               ^^^^^^^^^^^^^^^^^^^^^^\n",
      "  File \"/nvme/lovro/miniconda3/envs/photoD-dev/lib/python3.12/site-packages/distributed/utils_comm.py\", line 452, in retry_operation\n",
      "    return await retry(\n",
      "           ^^^^^^^^^^^^\n",
      "  File \"/nvme/lovro/miniconda3/envs/photoD-dev/lib/python3.12/site-packages/distributed/utils_comm.py\", line 431, in retry\n",
      "    return await coro()\n",
      "           ^^^^^^^^^^^^\n",
      "  File \"/nvme/lovro/miniconda3/envs/photoD-dev/lib/python3.12/site-packages/distributed/core.py\", line 1395, in send_recv_from_rpc\n",
      "    return await send_recv(comm=comm, op=key, **kwargs)\n",
      "           ^^^^^^^^^^^^^^^^^^^^^^^^^^^^^^^^^^^^^^^^^^^^\n",
      "  File \"/nvme/lovro/miniconda3/envs/photoD-dev/lib/python3.12/site-packages/distributed/core.py\", line 1154, in send_recv\n",
      "    response = await comm.read(deserializers=deserializers)\n",
      "               ^^^^^^^^^^^^^^^^^^^^^^^^^^^^^^^^^^^^^^^^^^^^\n",
      "  File \"/nvme/lovro/miniconda3/envs/photoD-dev/lib/python3.12/site-packages/distributed/comm/tcp.py\", line 236, in read\n",
      "    convert_stream_closed_error(self, e)\n",
      "  File \"/nvme/lovro/miniconda3/envs/photoD-dev/lib/python3.12/site-packages/distributed/comm/tcp.py\", line 142, in convert_stream_closed_error\n",
      "    raise CommClosedError(f\"in {obj}: {exc}\") from exc\n",
      "distributed.comm.core.CommClosedError: in <TCP (closed) ConnectionPool.heartbeat_worker local=tcp://127.0.0.1:35316 remote=tcp://127.0.0.1:40449>: Stream is closed\n",
      "2024-10-10 17:10:49,161 - distributed.worker - ERROR - Failed to communicate with scheduler during heartbeat.\n",
      "Traceback (most recent call last):\n",
      "  File \"/nvme/lovro/miniconda3/envs/photoD-dev/lib/python3.12/site-packages/distributed/comm/tcp.py\", line 225, in read\n",
      "    frames_nosplit_nbytes_bin = await stream.read_bytes(fmt_size)\n",
      "                                ^^^^^^^^^^^^^^^^^^^^^^^^^^^^^^^^^\n",
      "tornado.iostream.StreamClosedError: Stream is closed\n",
      "\n",
      "The above exception was the direct cause of the following exception:\n",
      "\n",
      "Traceback (most recent call last):\n",
      "  File \"/nvme/lovro/miniconda3/envs/photoD-dev/lib/python3.12/site-packages/distributed/worker.py\", line 1252, in heartbeat\n",
      "    response = await retry_operation(\n",
      "               ^^^^^^^^^^^^^^^^^^^^^^\n",
      "  File \"/nvme/lovro/miniconda3/envs/photoD-dev/lib/python3.12/site-packages/distributed/utils_comm.py\", line 452, in retry_operation\n",
      "    return await retry(\n",
      "           ^^^^^^^^^^^^\n",
      "  File \"/nvme/lovro/miniconda3/envs/photoD-dev/lib/python3.12/site-packages/distributed/utils_comm.py\", line 431, in retry\n",
      "    return await coro()\n",
      "           ^^^^^^^^^^^^\n",
      "  File \"/nvme/lovro/miniconda3/envs/photoD-dev/lib/python3.12/site-packages/distributed/core.py\", line 1395, in send_recv_from_rpc\n",
      "    return await send_recv(comm=comm, op=key, **kwargs)\n",
      "           ^^^^^^^^^^^^^^^^^^^^^^^^^^^^^^^^^^^^^^^^^^^^\n",
      "  File \"/nvme/lovro/miniconda3/envs/photoD-dev/lib/python3.12/site-packages/distributed/core.py\", line 1154, in send_recv\n",
      "    response = await comm.read(deserializers=deserializers)\n",
      "               ^^^^^^^^^^^^^^^^^^^^^^^^^^^^^^^^^^^^^^^^^^^^\n",
      "  File \"/nvme/lovro/miniconda3/envs/photoD-dev/lib/python3.12/site-packages/distributed/comm/tcp.py\", line 236, in read\n",
      "    convert_stream_closed_error(self, e)\n",
      "  File \"/nvme/lovro/miniconda3/envs/photoD-dev/lib/python3.12/site-packages/distributed/comm/tcp.py\", line 142, in convert_stream_closed_error\n",
      "    raise CommClosedError(f\"in {obj}: {exc}\") from exc\n",
      "distributed.comm.core.CommClosedError: in <TCP (closed) ConnectionPool.heartbeat_worker local=tcp://127.0.0.1:35314 remote=tcp://127.0.0.1:40449>: Stream is closed\n"
     ]
    }
   ],
   "source": [
    "import hipscat_import.pipeline as runner\n",
    "from hipscat_import.catalog.arguments import ImportArguments\n",
    "from hipscat_import.catalog.file_readers import ParquetReader\n",
    "\n",
    "# in_file_paths = glob.glob(\"/mnt/beegfs/scratch/data/S82_standards/S82_hipscat/*/*/*parquet\")\n",
    "in_file_paths = glob.glob(\"/mnt/beegfs/scratch/data/TRILEGAL_parquet//S82_hipscat/*/*/*parquet\")\n",
    "print(f\"Input files: {len(in_file_paths)}\")\n",
    "#in_file_paths = glob.glob(\"outputs/trilegal-00000*.parquet\")\n",
    "in_file_paths.sort()\n",
    "args = ImportArguments(\n",
    "    output_artifact_name=\"trilegal_S82_32\",\n",
    "    output_path=\"/home/lovro/scratch/data/TRILEGAL_S82_fixed_hpixorder_32\",\n",
    "    input_file_list=in_file_paths,\n",
    "    file_reader=\"parquet\", #ParquetReader\"\"(),\n",
    "    ra_column=\"ra\",\n",
    "    dec_column=\"dec\",\n",
    "    constant_healpix_order=5,\n",
    "    # overwrite=True, # Gone in 0.3.1?\n",
    "    catalog_type=\"object\",\n",
    "    sort_columns=\"ra\",\n",
    "    dask_n_workers=96,\n",
    "    dask_tmp=\"/nvme/tmp/dask_tmp\",\n",
    "    tmp_dir=\"/nvme/tmp/tmp_dir\",\n",
    "    resume=False,\n",
    "    # pixel_threshold=5_000_000,\n",
    "    add_hipscat_index=True    \n",
    ")\n",
    "runner.pipeline(args)"
   ]
  },
  {
   "cell_type": "code",
   "execution_count": 11,
   "id": "03c3bb24-a0c6-4c34-a2c7-f86aaea64e78",
   "metadata": {},
   "outputs": [
    {
     "name": "stderr",
     "output_type": "stream",
     "text": [
      "2024-10-10 17:14:50,893 - distributed.comm.tcp - WARNING - Closing dangling stream in <TCP  local=tcp://127.0.0.1:44336 remote=tcp://127.0.0.1:45253>\n",
      "Exception ignored in: <function Client.__del__ at 0x7f0c88de7600>\n",
      "Traceback (most recent call last):\n",
      "  File \"/nvme/lovro/miniconda3/envs/photoD-dev/lib/python3.12/site-packages/distributed/client.py\", line 1523, in __del__\n",
      "    self.close()\n",
      "  File \"/nvme/lovro/miniconda3/envs/photoD-dev/lib/python3.12/site-packages/distributed/client.py\", line 1775, in close\n",
      "    sync(self.loop, self._close, fast=True, callback_timeout=timeout)\n",
      "  File \"/nvme/lovro/miniconda3/envs/photoD-dev/lib/python3.12/site-packages/distributed/utils.py\", line 428, in sync\n",
      "    raise TimeoutError(f\"timed out after {timeout} s.\")\n",
      "TimeoutError: timed out after 60 s.\n"
     ]
    },
    {
     "name": "stdout",
     "output_type": "stream",
     "text": [
      "CPU times: user 20 s, sys: 12 s, total: 32 s\n",
      "Wall time: 1min\n"
     ]
    },
    {
     "data": {
      "image/png": "[encoded data removed]",
      "text/plain": [
       "<Figure size 850x540 with 2 Axes>"
      ]
     },
     "metadata": {},
     "output_type": "display_data"
    }
   ],
   "source": [
    "%%time\n",
    "import lsdb\n",
    "from lsdb.core.search import BoxSearch, ConeSearch, PolygonSearch\n",
    "tril_fn = \"/home/lovro/scratch/data/TRILEGAL_S82_fixed_hpixorder_32/trilegal_S82_32/\"\n",
    "tril = lsdb.read_hipscat(tril_fn) #, search_filter=BoxSearch(ra=(-52, 60), dec=(-1.266, 1.266)))\n",
    "tril.skymap(lambda df, a: np.log(len(df)+1), order=9)"
   ]
  },
  {
   "cell_type": "code",
   "execution_count": 13,
   "id": "f06fd5af-8a87-46e4-aba8-408a0d9c3603",
   "metadata": {},
   "outputs": [
    {
     "data": {
      "text/plain": [
       "10545280"
      ]
     },
     "execution_count": 13,
     "metadata": {},
     "output_type": "execute_result"
    }
   ],
   "source": [
    "tril.hc_structure.catalog_info.total_rows"
   ]
  },
  {
   "cell_type": "code",
   "execution_count": null,
   "id": "bc4056f1-4efe-4044-968a-197d23bd0005",
   "metadata": {},
   "outputs": [],
   "source": []
  }
 ],
 "metadata": {
  "kernelspec": {
   "display_name": "Python 3 (ipykernel)",
   "language": "python",
   "name": "python3"
  },
  "language_info": {
   "codemirror_mode": {
    "name": "ipython",
    "version": 3
   },
   "file_extension": ".py",
   "mimetype": "text/x-python",
   "name": "python",
   "nbconvert_exporter": "python",
   "pygments_lexer": "ipython3",
   "version": "3.12.3"
  }
 },
 "nbformat": 4,
 "nbformat_minor": 5
}
