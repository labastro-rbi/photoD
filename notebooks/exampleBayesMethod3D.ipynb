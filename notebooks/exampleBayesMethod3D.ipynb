{
 "cells": [
  {
   "cell_type": "markdown",
   "metadata": {},
   "source": [
    "## Bayesian estimates of (Mr, [Fe/H], Ar) using SDSS colors and TRILEGAL priors\n",
    "\n",
    "### speed: about 0.1-0.2 sec/star \n",
    "\n",
    "### with known Ar: 2D version runs in 4 milisec/star"
   ]
  },
  {
   "cell_type": "code",
   "execution_count": 1,
   "metadata": {},
   "outputs": [],
   "source": [
    "%matplotlib inline\n",
    "import sys\n",
    "from astropy.table import Table\n",
    "from astropy.coordinates import SkyCoord\n",
    "from astropy import units as u\n",
    "from astropy.table import hstack\n",
    "import matplotlib.pyplot as plt \n",
    "import numpy as np\n",
    "from scipy import stats\n",
    "from scipy import optimize\n",
    "from scipy.stats import gaussian_kde\n",
    "# from scipy import interpolate \n",
    "from scipy.interpolate import griddata"
   ]
  },
  {
   "cell_type": "code",
   "execution_count": 2,
   "metadata": {},
   "outputs": [],
   "source": [
    "## automatically reload any modules read below that might have changed (e.g. plots)\n",
    "%reload_ext autoreload\n",
    "%autoreload 2\n",
    "# importing plotting and locus tools: \n",
    "sys.path.append('../src')\n",
    "import LocusTools as lt\n",
    "import BayesTools as bt\n",
    "import PlotTools as pt"
   ]
  },
  {
   "cell_type": "markdown",
   "metadata": {},
   "source": [
    "### read photometric catalog with stars"
   ]
  },
  {
   "cell_type": "code",
   "execution_count": 3,
   "metadata": {},
   "outputs": [
    {
     "name": "stdout",
     "output_type": "stream",
     "text": [
      "READING FROM ../data/simCatalog_three_pix_triout_chiTest4.txt\n",
      "814450 read from ../data/simCatalog_three_pix_triout_chiTest4.txt\n"
     ]
    },
    {
     "data": {
      "text/html": [
       "<div><i>Table length=2</i>\n",
       "<table id=\"table5384946160\" class=\"table-striped table-bordered table-condensed\">\n",
       "<thead><tr><th>glon</th><th>glat</th><th>comp</th><th>logg</th><th>FeH</th><th>Mr</th><th>DM</th><th>Ar</th><th>rmag0</th><th>ug0</th><th>gr0</th><th>ri0</th><th>iz0</th><th>rmag</th><th>ug</th><th>gr</th><th>ri</th><th>iz</th><th>uErr</th><th>gErr</th><th>rErr</th><th>iErr</th><th>zErr</th><th>ugSL</th><th>grSL</th><th>riSL</th><th>izSL</th><th>ugErrSL</th><th>grErrSL</th><th>riErrSL</th><th>izErrSL</th><th>gi0</th><th>gi</th><th>gmag</th><th>umag</th><th>imag</th><th>zmag</th><th>ugErr</th><th>grErr</th><th>riErr</th><th>izErr</th></tr></thead>\n",
       "<thead><tr><th>float64</th><th>float64</th><th>int64</th><th>float64</th><th>float64</th><th>float64</th><th>float64</th><th>float64</th><th>float64</th><th>float64</th><th>float64</th><th>float64</th><th>float64</th><th>float64</th><th>float64</th><th>float64</th><th>float64</th><th>float64</th><th>float64</th><th>float64</th><th>float64</th><th>float64</th><th>float64</th><th>float64</th><th>float64</th><th>float64</th><th>float64</th><th>float64</th><th>float64</th><th>float64</th><th>float64</th><th>float64</th><th>float64</th><th>float64</th><th>float64</th><th>float64</th><th>float64</th><th>float64</th><th>float64</th><th>float64</th><th>float64</th></tr></thead>\n",
       "<tr><td>0.94839984</td><td>-45.11469269</td><td>1</td><td>4.95</td><td>-0.51</td><td>11.44</td><td>8.9</td><td>0.096</td><td>20.43</td><td>2.458</td><td>1.396</td><td>1.355</td><td>0.705</td><td>20.43</td><td>2.497</td><td>1.435</td><td>1.378</td><td>0.724</td><td>0.06</td><td>0.006</td><td>0.005</td><td>0.005</td><td>0.005</td><td>2.549</td><td>1.434</td><td>1.378</td><td>0.729</td><td>0.063</td><td>0.008</td><td>0.007</td><td>0.007</td><td>2.751</td><td>2.8129999999999997</td><td>21.865</td><td>24.362</td><td>19.052</td><td>18.328</td><td>0.060299253726725344</td><td>0.0078102496759066544</td><td>0.007071067811865475</td><td>0.007071067811865475</td></tr>\n",
       "<tr><td>0.21957318</td><td>-44.95205688</td><td>1</td><td>5.07</td><td>-0.49</td><td>13.04</td><td>8.65</td><td>0.12</td><td>21.81</td><td>2.58</td><td>1.478</td><td>1.723</td><td>0.943</td><td>21.82</td><td>2.629</td><td>1.526</td><td>1.752</td><td>0.967</td><td>0.249</td><td>0.011</td><td>0.006</td><td>0.005</td><td>0.005</td><td>2.369</td><td>1.547</td><td>1.756</td><td>0.956</td><td>0.2</td><td>0.013</td><td>0.008</td><td>0.007</td><td>3.201</td><td>3.278</td><td>23.346</td><td>25.975</td><td>20.068</td><td>19.101000000000003</td><td>0.24924285345822858</td><td>0.012529964086141668</td><td>0.0078102496759066544</td><td>0.007071067811865475</td></tr>\n",
       "</table></div>"
      ],
      "text/plain": [
       "<Table length=2>\n",
       "   glon        glat      comp   logg    FeH      Mr   ...   imag         zmag               ugErr                 grErr                 riErr                izErr        \n",
       " float64     float64    int64 float64 float64 float64 ... float64      float64             float64               float64               float64              float64       \n",
       "---------- ------------ ----- ------- ------- ------- ... ------- ------------------ -------------------- --------------------- --------------------- --------------------\n",
       "0.94839984 -45.11469269     1    4.95   -0.51   11.44 ...  19.052             18.328 0.060299253726725344 0.0078102496759066544  0.007071067811865475 0.007071067811865475\n",
       "0.21957318 -44.95205688     1    5.07   -0.49   13.04 ...  20.068 19.101000000000003  0.24924285345822858  0.012529964086141668 0.0078102496759066544 0.007071067811865475"
      ]
     },
     "execution_count": 3,
     "metadata": {},
     "output_type": "execute_result"
    }
   ],
   "source": [
    "## read TRILEGAL sim-based data file, augmented with LSST colors \n",
    "## the input data are limited to 0.2 < g-i < 3.0 and\n",
    "## -2.5 < FeH < 0 and Mr > -1.0 and log(g) < 7 and rmag < 26 \n",
    "sims = lt.readTRILEGALLSST(inTLfile='../data/simCatalog_three_pix_triout_chiTest4.txt', chiTest=True)\n",
    "sims[0:2]"
   ]
  },
  {
   "cell_type": "code",
   "execution_count": 4,
   "metadata": {},
   "outputs": [
    {
     "name": "stdout",
     "output_type": "stream",
     "text": [
      "-1.0 15.04\n"
     ]
    }
   ],
   "source": [
    "print(np.min(sims['Mr']), np.max(sims['Mr']))   # priors only support Mr<15; need to rerun priors"
   ]
  },
  {
   "cell_type": "markdown",
   "metadata": {},
   "source": [
    "### read stellar locus parametrization"
   ]
  },
  {
   "cell_type": "code",
   "execution_count": 5,
   "metadata": {},
   "outputs": [
    {
     "data": {
      "text/html": [
       "<div><i>Table length=2</i>\n",
       "<table id=\"table5385016176\" class=\"table-striped table-bordered table-condensed\">\n",
       "<thead><tr><th>Mr</th><th>FeH</th><th>ug</th><th>gr</th><th>ri</th><th>iz</th><th>zy</th><th>gi</th></tr></thead>\n",
       "<thead><tr><th>float64</th><th>float64</th><th>float64</th><th>float64</th><th>float64</th><th>float64</th><th>float64</th><th>float64</th></tr></thead>\n",
       "<tr><td>-1.0</td><td>-2.5</td><td>1.3805</td><td>0.578</td><td>0.265</td><td>0.1681</td><td>0.0803</td><td>0.843</td></tr>\n",
       "<tr><td>-0.99</td><td>-2.5</td><td>1.3793</td><td>0.5776</td><td>0.2648</td><td>0.1679</td><td>0.0802</td><td>0.8424</td></tr>\n",
       "</table></div>"
      ],
      "text/plain": [
       "<Table length=2>\n",
       "   Mr     FeH      ug      gr      ri      iz      zy      gi  \n",
       "float64 float64 float64 float64 float64 float64 float64 float64\n",
       "------- ------- ------- ------- ------- ------- ------- -------\n",
       "   -1.0    -2.5  1.3805   0.578   0.265  0.1681  0.0803   0.843\n",
       "  -0.99    -2.5  1.3793  0.5776  0.2648  0.1679  0.0802  0.8424"
      ]
     },
     "execution_count": 5,
     "metadata": {},
     "output_type": "execute_result"
    }
   ],
   "source": [
    "LSSTlocus = lt.LSSTsimsLocus(fixForStripe82=False)\n",
    "## select the color range where we expect main sequence and red giants\n",
    "# this fails, need to rerun priors for Mr>15\n",
    "# OKlocus = LSSTlocus[(LSSTlocus['gi']>0.2)&(LSSTlocus['gi']<3.8)]  # 3.8 to get beyond MrMax in sims\n",
    "OKlocus = LSSTlocus[(LSSTlocus['gi']>0.2)&(LSSTlocus['gi']<3.55)]   # gives MrMax < 15 (rerun priors!)\n",
    "OKlocus[0:2]"
   ]
  },
  {
   "cell_type": "code",
   "execution_count": 6,
   "metadata": {},
   "outputs": [
    {
     "name": "stdout",
     "output_type": "stream",
     "text": [
      "-1.0 -1.0\n",
      "28.0 14.58\n"
     ]
    }
   ],
   "source": [
    "print(np.min(LSSTlocus['Mr']), np.min(OKlocus['Mr']))\n",
    "print(np.max(LSSTlocus['Mr']), np.max(OKlocus['Mr']))"
   ]
  },
  {
   "cell_type": "markdown",
   "metadata": {},
   "source": [
    "### process data..."
   ]
  },
  {
   "cell_type": "code",
   "execution_count": 7,
   "metadata": {},
   "outputs": [],
   "source": [
    "### \n",
    "catalog = sims\n",
    "fitColors = ('ug', 'gr', 'ri', 'iz')  \n",
    "locusData = OKlocus\n",
    "priorsRootName = '../data/TRILEGALpriors/priors'\n",
    "outfile = '../data/simCatalog_three_pix_triout_chiTest4_BayesEstimates3D.txt'"
   ]
  },
  {
   "cell_type": "code",
   "execution_count": 8,
   "metadata": {},
   "outputs": [
    {
     "name": "stdout",
     "output_type": "stream",
     "text": [
      "Made model locus3D list in 99 seconds.\n"
     ]
    }
   ],
   "source": [
    "### make 3D locus list with three ArGrid limits and resolutions\n",
    "timeStart = !date +%s  \n",
    "ArGridList, locus3DList = lt.get3DmodelList(locusData, fitColors)\n",
    "timeEnd = !date +%s  \n",
    "runTime = int(timeEnd[0])-int(timeStart[0])\n",
    "print('Made model locus3D list in', runTime,'seconds.')"
   ]
  },
  {
   "cell_type": "code",
   "execution_count": 9,
   "metadata": {},
   "outputs": [
    {
     "name": "stdout",
     "output_type": "stream",
     "text": [
      "prior shape: (79509,)\n",
      "locusData size: 79509\n",
      "Finished in 129 seconds.\n"
     ]
    }
   ],
   "source": [
    "iStart = 0\n",
    "iEnd = -1    # if <0, signal to do all stars\n",
    "myStars = [0, 10, 100, 1000, 10000]  # make plots for these stars\n",
    "myStars = []\n",
    "verb=False \n",
    "timeStart = !date +%s  \n",
    "bt.makeBayesEstimates3D(catalog, fitColors, OKlocus, locus3DList, ArGridList, priorsRootName, outfile, iStart, iEnd, myStars, verbose=verb)\n",
    "# 2D version, where prior for Ar is set to the true value for each star\n",
    "# bt.makeBayesEstimates2D(catalog, fitColors, OKlocus, priorsRootName, outfile, iStart, iEnd, myStars, verbose=verb)\n",
    "timeEnd = !date +%s  \n",
    "runTime = int(timeEnd[0])-int(timeStart[0])\n",
    "print('Finished in', runTime, 'seconds.')"
   ]
  },
  {
   "cell_type": "code",
   "execution_count": 11,
   "metadata": {},
   "outputs": [
    {
     "name": "stdout",
     "output_type": "stream",
     "text": [
      "sample size: 1001\n",
      "Mr  FeH  Ar:\n",
      "median uncertainty: 0.1575244016036075 0.17603045169804246 0.038441942556653216\n",
      "median error: 0.13204403772065465 -0.04152867875505328 -0.012304570296014977\n",
      "std for chi: 1.806169733650837 1.1022710152070772 1.432418518280304\n"
     ]
    }
   ],
   "source": [
    "# for processed stars\n",
    "if (iEnd < iStart):\n",
    "    iStart = 0\n",
    "    iEnd = np.size(catalog)\n",
    "simsP = sims[iStart:iEnd]\n",
    "simsP['dMr'] = simsP['Mr'] - simsP['MrEst']\n",
    "simsP['dMrNorm'] = simsP['dMr'] / simsP['MrEstUnc'] \n",
    "simsP['dFeH'] = simsP['FeH'] - simsP['FeHEst']\n",
    "simsP['dFeHNorm'] = simsP['dFeH'] / simsP['FeHEstUnc'] \n",
    "simsP['dAr'] = simsP['Ar'] - simsP['ArEst']\n",
    "simsP['dArNorm'] = simsP['dAr'] / simsP['ArEstUnc'] \n",
    "print('sample size:', np.size(simsP))\n",
    "print('Mr  FeH  Ar:')\n",
    "print('median uncertainty:', np.median(simsP['MrEstUnc']), np.median(simsP['FeHEstUnc']), np.median(simsP['ArEstUnc']))\n",
    "print('median error:', np.median(simsP['dMr']), np.median(simsP['dFeH']), np.median(simsP['dAr']))\n",
    "print('std for chi:', np.std(simsP['dMrNorm']), np.std(simsP['dFeHNorm']), np.std(simsP['dArNorm']))"
   ]
  },
  {
   "cell_type": "code",
   "execution_count": null,
   "metadata": {},
   "outputs": [],
   "source": []
  }
 ],
 "metadata": {
  "kernelspec": {
   "display_name": "Python 3 (ipykernel)",
   "language": "python",
   "name": "python3"
  },
  "language_info": {
   "codemirror_mode": {
    "name": "ipython",
    "version": 3
   },
   "file_extension": ".py",
   "mimetype": "text/x-python",
   "name": "python",
   "nbconvert_exporter": "python",
   "pygments_lexer": "ipython3",
   "version": "3.9.9"
  }
 },
 "nbformat": 4,
 "nbformat_minor": 2
}
