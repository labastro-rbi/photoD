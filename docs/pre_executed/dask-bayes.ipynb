{
 "cells": [
  {
   "cell_type": "markdown",
   "metadata": {},
   "source": [
    "## Running JAX with Dask\n",
    "\n",
    "Test whether we can run JAX with Dask on CPU and GPU."
   ]
  },
  {
   "cell_type": "code",
   "execution_count": 2,
   "metadata": {},
   "outputs": [],
   "source": [
    "import dask\n",
    "import jax\n",
    "import lsdb\n",
    "\n",
    "from dask.distributed import Client\n",
    "from hats.pixel_math.healpix_pixel import HealpixPixel\n",
    "from photod.bayes import makeBayesEstimates3d\n",
    "from photod.parameters import GlobalParams\n",
    "from photod.priors import readPriors\n",
    "from photod.locus import LSSTsimsLocus, subsampleLocusData, get3DmodelList"
   ]
  },
  {
   "cell_type": "markdown",
   "metadata": {},
   "source": [
    "Configure JAX to use the device according to the specified flag. Using GPU requires a smaller batch size."
   ]
  },
  {
   "cell_type": "code",
   "execution_count": null,
   "metadata": {},
   "outputs": [
    {
     "name": "stdout",
     "output_type": "stream",
     "text": [
      "Using gpu: [CudaDevice(id=0), CudaDevice(id=1), CudaDevice(id=2), CudaDevice(id=3)]\n"
     ]
    }
   ],
   "source": [
    "# Need to restart kernel everytime we change this\n",
    "device = \"gpu\"\n",
    "jax.config.update(\"jax_platform_name\", device)\n",
    "print(f\"Using {device}: {jax.devices()}\")\n",
    "batchSize = 1000 #if device == \"gpu\" else 10000"
   ]
  },
  {
   "cell_type": "markdown",
   "metadata": {},
   "source": [
    "Let's load the s82 stripe catalog:"
   ]
  },
  {
   "cell_type": "code",
   "execution_count": 4,
   "metadata": {},
   "outputs": [],
   "source": [
    "s82 = lsdb.read_hats(\"/mnt/beegfs/scratch/data/S82_standards/S82_hats/S82_hats_fixed/\")"
   ]
  },
  {
   "cell_type": "markdown",
   "metadata": {},
   "source": [
    "And generate the model data:"
   ]
  },
  {
   "cell_type": "code",
   "execution_count": 6,
   "metadata": {},
   "outputs": [
    {
     "name": "stdout",
     "output_type": "stream",
     "text": [
      "subsampled locus 2D grid in FeH and Mr from 51 1559 to: 51 1559\n"
     ]
    }
   ],
   "source": [
    "locus_path = \"/home/scampos/photoD/data/MSandRGBcolors_v1.3.txt\"\n",
    "fitColors = (\"ug\", \"gr\", \"ri\", \"iz\")\n",
    "LSSTlocus = LSSTsimsLocus(fixForStripe82=False, datafile=locus_path)\n",
    "OKlocus = LSSTlocus[(LSSTlocus[\"gi\"] > 0.2) & (LSSTlocus[\"gi\"] < 3.55)]\n",
    "locusData = subsampleLocusData(OKlocus, kMr=1, kFeH=1)\n",
    "ArGridList, locus3DList = get3DmodelList(locusData, fitColors)"
   ]
  },
  {
   "cell_type": "markdown",
   "metadata": {},
   "source": [
    "Let's wrap the `makeBayesEstimates3d` with delayed."
   ]
  },
  {
   "cell_type": "code",
   "execution_count": null,
   "metadata": {},
   "outputs": [],
   "source": [
    "def run_jax_with_dask(partition_df, batchSize):\n",
    "    pix = HealpixPixel(5,0)\n",
    "    partition_df = s82.pixel_search([(pix.order, pix.pixel)]).compute().reset_index(drop=True)\n",
    "    globalParams = GlobalParams(fitColors, locusData, ArGridList, locus3DList)\n",
    "    return delayed_bayes_estimates_3d(partition_df, pix, globalParams, batchSize)\n",
    "\n",
    "@dask.delayed\n",
    "def delayed_bayes_estimates_3d(partition_df, pix, globalParams, batchSize):\n",
    "    priorsRootName = f\"/mnt/beegfs/scratch/scampos/photod/priors/TRILEGAL/S82/{pix.order}/{pix.pixel}\"\n",
    "    priorGrid = readPriors(priorsRootName, globalParams.locusData, globalParams.MrColumn)\n",
    "    priorGrid = jax.numpy.array(list(priorGrid.values()))\n",
    "    estimatesDf, _ = makeBayesEstimates3d(partition_df, priorGrid, globalParams, batchSize=batchSize)\n",
    "    return estimatesDf"
   ]
  },
  {
   "cell_type": "markdown",
   "metadata": {},
   "source": [
    "Let's instantiate a Dask Client and run the workflow:"
   ]
  },
  {
   "cell_type": "code",
   "execution_count": 6,
   "metadata": {},
   "outputs": [
    {
     "name": "stderr",
     "output_type": "stream",
     "text": [
      "/home/scampos/photoD/.venv/lib/python3.10/site-packages/distributed/node.py:187: UserWarning: Port 8787 is already in use.\n",
      "Perhaps you already have a cluster running?\n",
      "Hosting the HTTP server on port 44479 instead\n",
      "  warnings.warn(\n",
      "/home/scampos/photoD/.venv/lib/python3.10/site-packages/distributed/client.py:3361: UserWarning: Sending large graph of size 1.57 GiB.\n",
      "This may cause some slowdown.\n",
      "Consider loading the data with Dask directly\n",
      " or using futures or delayed objects to embed the data into the graph without repetition.\n",
      "See also https://docs.dask.org/en/stable/best-practices.html#load-data-with-dask for more information.\n",
      "  warnings.warn(\n"
     ]
    },
    {
     "name": "stdout",
     "output_type": "stream",
     "text": [
      "CPU times: user 1.97 s, sys: 3.58 s, total: 5.55 s\n",
      "Wall time: 15 s\n"
     ]
    }
   ],
   "source": [
    "%%time\n",
    "with Client(n_workers=3):\n",
    "    results = run_jax_with_dask(s82, batchSize)\n",
    "    results_cpu = results.compute()"
   ]
  },
  {
   "cell_type": "code",
   "execution_count": 8,
   "metadata": {},
   "outputs": [
    {
     "name": "stderr",
     "output_type": "stream",
     "text": [
      "/home/scampos/photoD/.venv/lib/python3.10/site-packages/distributed/node.py:187: UserWarning: Port 8787 is already in use.\n",
      "Perhaps you already have a cluster running?\n",
      "Hosting the HTTP server on port 45987 instead\n",
      "  warnings.warn(\n",
      "/home/scampos/photoD/.venv/lib/python3.10/site-packages/distributed/client.py:3361: UserWarning: Sending large graph of size 1.28 GiB.\n",
      "This may cause some slowdown.\n",
      "Consider loading the data with Dask directly\n",
      " or using futures or delayed objects to embed the data into the graph without repetition.\n",
      "See also https://docs.dask.org/en/stable/best-practices.html#load-data-with-dask for more information.\n",
      "  warnings.warn(\n"
     ]
    },
    {
     "name": "stdout",
     "output_type": "stream",
     "text": [
      "CPU times: user 1.75 s, sys: 3.03 s, total: 4.78 s\n",
      "Wall time: 14.2 s\n"
     ]
    }
   ],
   "source": [
    "%%time\n",
    "with Client(n_workers=3):\n",
    "    results = run_jax_with_dask(s82, batchSize)\n",
    "    results_gpu = results.compute()"
   ]
  },
  {
   "cell_type": "code",
   "execution_count": null,
   "metadata": {},
   "outputs": [],
   "source": []
  }
 ],
 "metadata": {
  "kernelspec": {
   "display_name": ".venv",
   "language": "python",
   "name": "python3"
  },
  "language_info": {
   "codemirror_mode": {
    "name": "ipython",
    "version": 3
   },
   "file_extension": ".py",
   "mimetype": "text/x-python",
   "name": "python",
   "nbconvert_exporter": "python",
   "pygments_lexer": "ipython3",
   "version": "3.10.12"
  }
 },
 "nbformat": 4,
 "nbformat_minor": 2
}
