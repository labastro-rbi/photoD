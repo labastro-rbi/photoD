{
 "cells": [
  {
   "cell_type": "code",
   "execution_count": 1,
   "id": "96f13b28-42aa-4862-8d7d-9c5b9dc34abb",
   "metadata": {},
   "outputs": [],
   "source": [
    "%matplotlib inline\n",
    "import lsdb\n",
    "import numpy as np\n",
    "import pandas as pd\n",
    "pd.set_option('display.max_columns', None)"
   ]
  },
  {
   "cell_type": "code",
   "execution_count": 2,
   "id": "44a7bbbb-0df1-4ce5-8212-46194de13879",
   "metadata": {},
   "outputs": [],
   "source": [
    "bandCols=['Nobs', 'mmed', 'mmu', 'msig', 'mrms', 'mchi2']\n",
    "s82 = pd.read_table(\n",
    "    \"/mnt/beegfs/scratch/data/S82_standards/stripe82calibStars_v4.2.dat\",\n",
    "    header=None, \n",
    "    comment='#', \n",
    "    sep=r\"\\s+\", \n",
    "    names=['CALIBSTARS','ra', 'dec', 'RArms', 'Decrms','Ntot','Ar']+\n",
    "        ['u'+c for c in bandCols]+\n",
    "        ['g'+c for c in bandCols]+\n",
    "        ['r'+c for c in bandCols]+\n",
    "        ['i'+c for c in bandCols]+\n",
    "        ['z'+c for c in bandCols])"
   ]
  },
  {
   "cell_type": "code",
   "execution_count": 3,
   "id": "fd8f268a-a124-448b-8927-c17fd0fcabc7",
   "metadata": {},
   "outputs": [
    {
     "name": "stdout",
     "output_type": "stream",
     "text": [
      "CPU times: user 3min 20s, sys: 1.24 s, total: 3min 21s\n",
      "Wall time: 3min 21s\n"
     ]
    }
   ],
   "source": [
    "%%time\n",
    "s82 = lsdb.from_dataframe(s82, catalog_name=\"S82\", drop_empty_siblings=True, lowest_order=5, highest_order=5)"
   ]
  },
  {
   "cell_type": "code",
   "execution_count": 4,
   "id": "87ec9657-b30e-41bd-a2eb-d55c763af31d",
   "metadata": {},
   "outputs": [
    {
     "data": {
      "image/png": "[encoded data removed]",
      "text/plain": [
       "<Figure size 850x540 with 1 Axes>"
      ]
     },
     "metadata": {},
     "output_type": "display_data"
    }
   ],
   "source": [
    "s82.plot_pixels()"
   ]
  },
  {
   "cell_type": "markdown",
   "id": "80a3242d",
   "metadata": {},
   "source": [
    "```python\n",
    "## DON'T Run THIS!!!!\n",
    "\n",
    "from astropy.coordinates import SkyCoord\n",
    "\n",
    "old_colnames = ['ummed', 'gmmed', 'rmmed', 'immed', 'zmmed', 'umsig', 'gmsig', 'rmsig', 'imsig', 'zmsig']\n",
    "colnames = ['umag', 'gmag', 'rmag', 'imag', 'zmag', 'uErr', 'gErr', 'rErr', 'iErr', 'zErr']\n",
    "col_dict=dict(zip(old_colnames, colnames))\n",
    "col_dict\n",
    "s82=s82.map_partitions(lambda df: df.rename(columns=col_dict))\n",
    "s82=s82.map_partitions(lambda df: df.assign(Mr=-99, FeH=-99, MrEst=-99, \n",
    "                                            MrEstUnc=-99, FeHEst=-99))\n",
    "s82=s82.map_partitions(lambda df: df.assign(ug=df.umag-df.gmag))\n",
    "s82=s82.map_partitions(lambda df: df.assign(gr=df.gmag-df.rmag))\n",
    "s82=s82.map_partitions(lambda df: df.assign(gi=df.gmag-df.imag))\n",
    "s82=s82.map_partitions(lambda df: df.assign(ri=df.rmag-df.imag))\n",
    "s82=s82.map_partitions(lambda df: df.assign(iz=df.imag-df.zmag))\n",
    "s82=s82.map_partitions(lambda df: df.assign(ugErr=np.sqrt(df.uErr**2+df.gErr**2)))\n",
    "s82=s82.map_partitions(lambda df: df.assign(grErr=np.sqrt(df.gErr**2+df.rErr**2)))\n",
    "s82=s82.map_partitions(lambda df: df.assign(giErr=np.sqrt(df.gErr**2+df.iErr**2)))\n",
    "s82=s82.map_partitions(lambda df: df.assign(riErr=np.sqrt(df.rErr**2+df.iErr**2)))\n",
    "s82=s82.map_partitions(lambda df: df.assign(izErr=np.sqrt(df.iErr**2+df.zErr**2)))\n",
    "s82=s82.map_partitions(lambda df: df.assign(glon=SkyCoord(df.ra, df.dec, unit=\"deg\").galactic.l.deg))\n",
    "s82=s82.map_partitions(lambda df: df.assign(glat=SkyCoord(df.ra, df.dec, unit=\"deg\").galactic.b.deg))\n",
    "\n",
    "gi_cut = (s82['gi'] > 0.2) & (s82['gi'] < 3)\n",
    "s82 = s82[gi_cut]\n",
    "```"
   ]
  },
  {
   "cell_type": "code",
   "execution_count": 8,
   "id": "1e8276ff-0975-457d-8237-0b898d148463",
   "metadata": {},
   "outputs": [
    {
     "name": "stderr",
     "output_type": "stream",
     "text": [
      "/home/scampos/photoD/.venv/lib/python3.10/site-packages/distributed/client.py:3361: UserWarning: Sending large graph of size 318.84 MiB.\n",
      "This may cause some slowdown.\n",
      "Consider loading the data with Dask directly\n",
      " or using futures or delayed objects to embed the data into the graph without repetition.\n",
      "See also https://docs.dask.org/en/stable/best-practices.html#load-data-with-dask for more information.\n",
      "  warnings.warn(\n"
     ]
    }
   ],
   "source": [
    "s82.to_hipscat(\"S82_order5\", overwrite=True)"
   ]
  },
  {
   "cell_type": "code",
   "execution_count": 2,
   "id": "5b86efa1-b4fe-44ea-8eae-eafd4e8ea6af",
   "metadata": {},
   "outputs": [
    {
     "name": "stdout",
     "output_type": "stream",
     "text": [
      "4.0K\tS82_order5/catalog_info.json\n",
      "24K\tS82_order5/_common_metadata\n",
      "1.6M\tS82_order5/_metadata\n",
      "145M\tS82_order5/Norder=5\n",
      "4.0K\tS82_order5/partition_info.csv\n",
      "4.0K\tS82_order5/provenance_info.json\n"
     ]
    }
   ],
   "source": [
    "!du -sh S82_order5/*"
   ]
  }
 ],
 "metadata": {
  "kernelspec": {
   "display_name": ".venv",
   "language": "python",
   "name": "python3"
  },
  "language_info": {
   "codemirror_mode": {
    "name": "ipython",
    "version": 3
   },
   "file_extension": ".py",
   "mimetype": "text/x-python",
   "name": "python",
   "nbconvert_exporter": "python",
   "pygments_lexer": "ipython3",
   "version": "3.10.12"
  }
 },
 "nbformat": 4,
 "nbformat_minor": 5
}
